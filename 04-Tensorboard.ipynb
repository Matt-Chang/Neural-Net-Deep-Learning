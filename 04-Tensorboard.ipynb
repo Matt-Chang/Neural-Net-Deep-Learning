{
 "cells": [
  {
   "cell_type": "markdown",
   "id": "12127b8d",
   "metadata": {},
   "source": [
    "# Tensorboard\n",
    "\n",
    "Let's explore the built in data visualization capabilities that come with Tensorboard."
   ]
  },
  {
   "cell_type": "code",
   "execution_count": 4,
   "id": "05aa90b4",
   "metadata": {},
   "outputs": [],
   "source": [
    "import pandas as pd\n",
    "import numpy as np"
   ]
  },
  {
   "cell_type": "code",
   "execution_count": 3,
   "id": "db623370",
   "metadata": {},
   "outputs": [],
   "source": [
    "df = pd.read_csv('cancer_classification.csv')"
   ]
  },
  {
   "cell_type": "markdown",
   "id": "9842f18a",
   "metadata": {},
   "source": [
    "### Train Test Split"
   ]
  },
  {
   "cell_type": "code",
   "execution_count": 5,
   "id": "7249c419",
   "metadata": {},
   "outputs": [],
   "source": [
    "X=df.drop('benign_0__mal_1',axis=1).values\n",
    "y=df['benign_0__mal_1'].values"
   ]
  },
  {
   "cell_type": "code",
   "execution_count": 6,
   "id": "811a021c",
   "metadata": {},
   "outputs": [],
   "source": [
    "from sklearn.model_selection import train_test_split"
   ]
  },
  {
   "cell_type": "code",
   "execution_count": 7,
   "id": "f45d04ab",
   "metadata": {},
   "outputs": [],
   "source": [
    "X_train, X_test, y_train, y_test = train_test_split(X,y,test_size=0.25,random_state=101)"
   ]
  },
  {
   "cell_type": "markdown",
   "id": "6bd81d6d",
   "metadata": {},
   "source": [
    "### Scaling Data"
   ]
  },
  {
   "cell_type": "code",
   "execution_count": 8,
   "id": "f44f687e",
   "metadata": {},
   "outputs": [],
   "source": [
    "from sklearn.preprocessing import MinMaxScaler"
   ]
  },
  {
   "cell_type": "code",
   "execution_count": 11,
   "id": "49c4e9bb",
   "metadata": {},
   "outputs": [],
   "source": [
    "scaler = MinMaxScaler()"
   ]
  },
  {
   "cell_type": "code",
   "execution_count": 12,
   "id": "00d806be",
   "metadata": {},
   "outputs": [
    {
     "data": {
      "text/plain": [
       "MinMaxScaler()"
      ]
     },
     "execution_count": 12,
     "metadata": {},
     "output_type": "execute_result"
    }
   ],
   "source": [
    "scaler.fit(X_train)"
   ]
  },
  {
   "cell_type": "code",
   "execution_count": 13,
   "id": "ba2865cf",
   "metadata": {},
   "outputs": [],
   "source": [
    "X_train = scaler.transform(X_train)\n",
    "X_test = scaler.transform(X_test)"
   ]
  },
  {
   "cell_type": "markdown",
   "id": "5ba297b2",
   "metadata": {},
   "source": [
    "## Creating the Model"
   ]
  },
  {
   "cell_type": "code",
   "execution_count": 14,
   "id": "52839373",
   "metadata": {},
   "outputs": [],
   "source": [
    "import tensorflow as tf\n",
    "from tensorflow.keras.models import Sequential\n",
    "from tensorflow.keras.layers import Dense, Activation,Dropout"
   ]
  },
  {
   "cell_type": "code",
   "execution_count": 30,
   "id": "6287b440",
   "metadata": {},
   "outputs": [],
   "source": [
    "from tensorflow.keras.callbacks import EarlyStopping,TensorBoard"
   ]
  },
  {
   "cell_type": "code",
   "execution_count": 32,
   "id": "9fccd3c4",
   "metadata": {},
   "outputs": [],
   "source": [
    "early_stop = EarlyStopping(monitor='val_loss', mode='min',verbose=1,patience=25)"
   ]
  },
  {
   "cell_type": "code",
   "execution_count": 33,
   "id": "9940cd33",
   "metadata": {},
   "outputs": [
    {
     "data": {
      "text/plain": [
       "'C:\\\\Users\\\\user\\\\Refactored_Py_DS_ML_Bootcamp-master\\\\20-Natural-Language-Processing'"
      ]
     },
     "execution_count": 33,
     "metadata": {},
     "output_type": "execute_result"
    }
   ],
   "source": [
    "pwd"
   ]
  },
  {
   "cell_type": "markdown",
   "id": "ce9f71be",
   "metadata": {},
   "source": [
    "## Creating the Tensorboard Callback\n",
    "\n",
    "tensorboard --logdir=path_to_your_logs\n"
   ]
  },
  {
   "cell_type": "code",
   "execution_count": 18,
   "id": "f7557bd9",
   "metadata": {},
   "outputs": [],
   "source": [
    "from datetime import datetime "
   ]
  },
  {
   "cell_type": "code",
   "execution_count": 21,
   "id": "6119d5c5",
   "metadata": {},
   "outputs": [
    {
     "data": {
      "text/plain": [
       "'2022-06-28--0807'"
      ]
     },
     "execution_count": 21,
     "metadata": {},
     "output_type": "execute_result"
    }
   ],
   "source": [
    "datetime.now().strftime('%Y-%m-%d--%H%M')"
   ]
  },
  {
   "cell_type": "code",
   "execution_count": 22,
   "id": "8885b763",
   "metadata": {},
   "outputs": [],
   "source": [
    "log_directory = 'logs\\\\fit'"
   ]
  },
  {
   "cell_type": "code",
   "execution_count": 27,
   "id": "fbba48ef",
   "metadata": {},
   "outputs": [],
   "source": [
    "board = TensorBoard(log_dir=log_directory,histogram_freq=1,\n",
    "    write_graph=True,\n",
    "    write_images=True,\n",
    "    update_freq='epoch',\n",
    "    profile_batch=2,\n",
    "    embeddings_freq=1)"
   ]
  },
  {
   "cell_type": "code",
   "execution_count": 28,
   "id": "6a74ee9b",
   "metadata": {},
   "outputs": [],
   "source": [
    "model = Sequential()\n",
    "model.add(Dense(units=30,activation='relu'))\n",
    "model.add(Dropout(0.5))\n",
    "model.add(Dense(units=15,activation='relu'))\n",
    "model.add(Dropout(0.5))\n",
    "model.add(Dense(units=1,activation='sigmoid'))\n",
    "model.compile(loss='binary_crossentropy', optimizer='adam')"
   ]
  },
  {
   "cell_type": "markdown",
   "id": "1dac5854",
   "metadata": {},
   "source": [
    "## Train the Model"
   ]
  },
  {
   "cell_type": "code",
   "execution_count": 34,
   "id": "5cf2a0ab",
   "metadata": {},
   "outputs": [
    {
     "name": "stdout",
     "output_type": "stream",
     "text": [
      "Epoch 1/600\n",
      "14/14 [==============================] - 1s 35ms/step - loss: 0.6845 - val_loss: 0.6692\n",
      "Epoch 2/600\n",
      "14/14 [==============================] - 0s 11ms/step - loss: 0.6757 - val_loss: 0.6553\n",
      "Epoch 3/600\n",
      "14/14 [==============================] - 0s 10ms/step - loss: 0.6749 - val_loss: 0.6441\n",
      "Epoch 4/600\n",
      "14/14 [==============================] - 0s 11ms/step - loss: 0.6539 - val_loss: 0.6265\n",
      "Epoch 5/600\n",
      "14/14 [==============================] - 0s 10ms/step - loss: 0.6321 - val_loss: 0.6033\n",
      "Epoch 6/600\n",
      "14/14 [==============================] - 0s 10ms/step - loss: 0.6032 - val_loss: 0.5767\n",
      "Epoch 7/600\n",
      "14/14 [==============================] - 0s 11ms/step - loss: 0.5924 - val_loss: 0.5515\n",
      "Epoch 8/600\n",
      "14/14 [==============================] - 0s 10ms/step - loss: 0.5873 - val_loss: 0.5280\n",
      "Epoch 9/600\n",
      "14/14 [==============================] - 0s 9ms/step - loss: 0.5523 - val_loss: 0.5048\n",
      "Epoch 10/600\n",
      "14/14 [==============================] - 0s 10ms/step - loss: 0.5216 - val_loss: 0.4802\n",
      "Epoch 11/600\n",
      "14/14 [==============================] - 0s 10ms/step - loss: 0.5131 - val_loss: 0.4523\n",
      "Epoch 12/600\n",
      "14/14 [==============================] - 0s 9ms/step - loss: 0.4939 - val_loss: 0.4241\n",
      "Epoch 13/600\n",
      "14/14 [==============================] - 0s 9ms/step - loss: 0.4558 - val_loss: 0.4012\n",
      "Epoch 14/600\n",
      "14/14 [==============================] - 0s 11ms/step - loss: 0.4450 - val_loss: 0.3739\n",
      "Epoch 15/600\n",
      "14/14 [==============================] - 0s 10ms/step - loss: 0.4177 - val_loss: 0.3458\n",
      "Epoch 16/600\n",
      "14/14 [==============================] - 0s 9ms/step - loss: 0.3979 - val_loss: 0.3163\n",
      "Epoch 17/600\n",
      "14/14 [==============================] - 0s 9ms/step - loss: 0.3782 - val_loss: 0.2957\n",
      "Epoch 18/600\n",
      "14/14 [==============================] - 0s 9ms/step - loss: 0.3884 - val_loss: 0.2746\n",
      "Epoch 19/600\n",
      "14/14 [==============================] - 0s 10ms/step - loss: 0.3662 - val_loss: 0.2611\n",
      "Epoch 20/600\n",
      "14/14 [==============================] - 0s 10ms/step - loss: 0.3437 - val_loss: 0.2480\n",
      "Epoch 21/600\n",
      "14/14 [==============================] - 0s 9ms/step - loss: 0.3258 - val_loss: 0.2338\n",
      "Epoch 22/600\n",
      "14/14 [==============================] - 0s 9ms/step - loss: 0.3237 - val_loss: 0.2212\n",
      "Epoch 23/600\n",
      "14/14 [==============================] - 0s 10ms/step - loss: 0.3002 - val_loss: 0.2098\n",
      "Epoch 24/600\n",
      "14/14 [==============================] - 0s 11ms/step - loss: 0.3074 - val_loss: 0.2037\n",
      "Epoch 25/600\n",
      "14/14 [==============================] - 0s 10ms/step - loss: 0.3056 - val_loss: 0.2035\n",
      "Epoch 26/600\n",
      "14/14 [==============================] - 0s 9ms/step - loss: 0.2824 - val_loss: 0.1962\n",
      "Epoch 27/600\n",
      "14/14 [==============================] - 0s 10ms/step - loss: 0.2776 - val_loss: 0.1875\n",
      "Epoch 28/600\n",
      "14/14 [==============================] - 0s 10ms/step - loss: 0.2706 - val_loss: 0.1817\n",
      "Epoch 29/600\n",
      "14/14 [==============================] - 0s 10ms/step - loss: 0.2576 - val_loss: 0.1729\n",
      "Epoch 30/600\n",
      "14/14 [==============================] - 0s 10ms/step - loss: 0.2524 - val_loss: 0.1687\n",
      "Epoch 31/600\n",
      "14/14 [==============================] - 0s 10ms/step - loss: 0.2225 - val_loss: 0.1636\n",
      "Epoch 32/600\n",
      "14/14 [==============================] - 0s 10ms/step - loss: 0.2373 - val_loss: 0.1559\n",
      "Epoch 33/600\n",
      "14/14 [==============================] - 0s 10ms/step - loss: 0.2360 - val_loss: 0.1551\n",
      "Epoch 34/600\n",
      "14/14 [==============================] - 0s 18ms/step - loss: 0.2372 - val_loss: 0.1579\n",
      "Epoch 35/600\n",
      "14/14 [==============================] - 0s 10ms/step - loss: 0.2368 - val_loss: 0.1513\n",
      "Epoch 36/600\n",
      "14/14 [==============================] - 0s 12ms/step - loss: 0.2281 - val_loss: 0.1538\n",
      "Epoch 37/600\n",
      "14/14 [==============================] - 0s 14ms/step - loss: 0.2196 - val_loss: 0.1484\n",
      "Epoch 38/600\n",
      "14/14 [==============================] - 0s 13ms/step - loss: 0.2308 - val_loss: 0.1553\n",
      "Epoch 39/600\n",
      "14/14 [==============================] - 0s 11ms/step - loss: 0.2027 - val_loss: 0.1425\n",
      "Epoch 40/600\n",
      "14/14 [==============================] - 0s 11ms/step - loss: 0.2082 - val_loss: 0.1452\n",
      "Epoch 41/600\n",
      "14/14 [==============================] - 0s 13ms/step - loss: 0.1874 - val_loss: 0.1357\n",
      "Epoch 42/600\n",
      "14/14 [==============================] - 0s 15ms/step - loss: 0.1839 - val_loss: 0.1358\n",
      "Epoch 43/600\n",
      "14/14 [==============================] - 0s 14ms/step - loss: 0.1650 - val_loss: 0.1301\n",
      "Epoch 44/600\n",
      "14/14 [==============================] - 0s 13ms/step - loss: 0.2024 - val_loss: 0.1338\n",
      "Epoch 45/600\n",
      "14/14 [==============================] - 0s 10ms/step - loss: 0.1894 - val_loss: 0.1301\n",
      "Epoch 46/600\n",
      "14/14 [==============================] - 0s 12ms/step - loss: 0.1872 - val_loss: 0.1298\n",
      "Epoch 47/600\n",
      "14/14 [==============================] - 0s 10ms/step - loss: 0.1544 - val_loss: 0.1306\n",
      "Epoch 48/600\n",
      "14/14 [==============================] - 0s 11ms/step - loss: 0.1769 - val_loss: 0.1299\n",
      "Epoch 49/600\n",
      "14/14 [==============================] - 0s 11ms/step - loss: 0.1904 - val_loss: 0.1291\n",
      "Epoch 50/600\n",
      "14/14 [==============================] - 0s 10ms/step - loss: 0.1818 - val_loss: 0.1301\n",
      "Epoch 51/600\n",
      "14/14 [==============================] - 0s 10ms/step - loss: 0.1946 - val_loss: 0.1307\n",
      "Epoch 52/600\n",
      "14/14 [==============================] - 0s 11ms/step - loss: 0.1629 - val_loss: 0.1283\n",
      "Epoch 53/600\n",
      "14/14 [==============================] - 0s 11ms/step - loss: 0.1708 - val_loss: 0.1282\n",
      "Epoch 54/600\n",
      "14/14 [==============================] - 0s 9ms/step - loss: 0.1520 - val_loss: 0.1271\n",
      "Epoch 55/600\n",
      "14/14 [==============================] - 0s 10ms/step - loss: 0.1519 - val_loss: 0.1287\n",
      "Epoch 56/600\n",
      "14/14 [==============================] - 0s 16ms/step - loss: 0.1198 - val_loss: 0.1254\n",
      "Epoch 57/600\n",
      "14/14 [==============================] - 0s 17ms/step - loss: 0.1389 - val_loss: 0.1281\n",
      "Epoch 58/600\n",
      "14/14 [==============================] - 0s 15ms/step - loss: 0.1365 - val_loss: 0.1321\n",
      "Epoch 59/600\n",
      "14/14 [==============================] - 0s 16ms/step - loss: 0.1527 - val_loss: 0.1254\n",
      "Epoch 60/600\n",
      "14/14 [==============================] - 0s 10ms/step - loss: 0.1560 - val_loss: 0.1244\n",
      "Epoch 61/600\n",
      "14/14 [==============================] - 0s 10ms/step - loss: 0.1594 - val_loss: 0.1266\n",
      "Epoch 62/600\n",
      "14/14 [==============================] - 0s 10ms/step - loss: 0.1562 - val_loss: 0.1224\n",
      "Epoch 63/600\n",
      "14/14 [==============================] - 0s 12ms/step - loss: 0.1597 - val_loss: 0.1235\n",
      "Epoch 64/600\n",
      "14/14 [==============================] - 0s 15ms/step - loss: 0.1544 - val_loss: 0.1228\n",
      "Epoch 65/600\n",
      "14/14 [==============================] - 0s 11ms/step - loss: 0.1413 - val_loss: 0.1192\n",
      "Epoch 66/600\n",
      "14/14 [==============================] - 0s 10ms/step - loss: 0.1339 - val_loss: 0.1221\n",
      "Epoch 67/600\n",
      "14/14 [==============================] - 0s 11ms/step - loss: 0.1680 - val_loss: 0.1239\n",
      "Epoch 68/600\n",
      "14/14 [==============================] - 0s 11ms/step - loss: 0.1357 - val_loss: 0.1205\n",
      "Epoch 69/600\n",
      "14/14 [==============================] - 0s 13ms/step - loss: 0.1155 - val_loss: 0.1203\n",
      "Epoch 70/600\n",
      "14/14 [==============================] - 0s 11ms/step - loss: 0.1413 - val_loss: 0.1307\n",
      "Epoch 71/600\n",
      "14/14 [==============================] - 0s 10ms/step - loss: 0.1596 - val_loss: 0.1202\n",
      "Epoch 72/600\n",
      "14/14 [==============================] - 0s 10ms/step - loss: 0.1361 - val_loss: 0.1215\n",
      "Epoch 73/600\n",
      "14/14 [==============================] - 0s 10ms/step - loss: 0.1307 - val_loss: 0.1298\n",
      "Epoch 74/600\n",
      "14/14 [==============================] - 0s 10ms/step - loss: 0.1395 - val_loss: 0.1244\n",
      "Epoch 75/600\n",
      "14/14 [==============================] - 0s 11ms/step - loss: 0.1248 - val_loss: 0.1249\n",
      "Epoch 76/600\n",
      "14/14 [==============================] - 0s 12ms/step - loss: 0.1391 - val_loss: 0.1231\n",
      "Epoch 77/600\n",
      "14/14 [==============================] - 0s 10ms/step - loss: 0.1287 - val_loss: 0.1323\n",
      "Epoch 78/600\n",
      "14/14 [==============================] - 0s 9ms/step - loss: 0.1097 - val_loss: 0.1178\n",
      "Epoch 79/600\n",
      "14/14 [==============================] - 0s 10ms/step - loss: 0.1234 - val_loss: 0.1230\n",
      "Epoch 80/600\n",
      "14/14 [==============================] - 0s 10ms/step - loss: 0.1207 - val_loss: 0.1189\n",
      "Epoch 81/600\n",
      "14/14 [==============================] - 0s 10ms/step - loss: 0.1264 - val_loss: 0.1228\n",
      "Epoch 82/600\n",
      "14/14 [==============================] - 0s 11ms/step - loss: 0.1377 - val_loss: 0.1239\n",
      "Epoch 83/600\n",
      "14/14 [==============================] - 0s 11ms/step - loss: 0.1374 - val_loss: 0.1227\n",
      "Epoch 84/600\n",
      "14/14 [==============================] - 0s 10ms/step - loss: 0.1191 - val_loss: 0.1206\n",
      "Epoch 85/600\n",
      "14/14 [==============================] - 0s 10ms/step - loss: 0.1079 - val_loss: 0.1190\n",
      "Epoch 86/600\n",
      "14/14 [==============================] - 0s 10ms/step - loss: 0.1066 - val_loss: 0.1179\n",
      "Epoch 87/600\n",
      "14/14 [==============================] - 0s 10ms/step - loss: 0.1145 - val_loss: 0.1264\n",
      "Epoch 88/600\n",
      "14/14 [==============================] - 0s 10ms/step - loss: 0.1256 - val_loss: 0.1186\n",
      "Epoch 89/600\n",
      "14/14 [==============================] - 0s 10ms/step - loss: 0.1042 - val_loss: 0.1152\n",
      "Epoch 90/600\n",
      "14/14 [==============================] - 0s 13ms/step - loss: 0.1160 - val_loss: 0.1227\n",
      "Epoch 91/600\n",
      "14/14 [==============================] - 0s 11ms/step - loss: 0.0967 - val_loss: 0.1172\n",
      "Epoch 92/600\n",
      "14/14 [==============================] - 0s 9ms/step - loss: 0.1081 - val_loss: 0.1209\n",
      "Epoch 93/600\n",
      "14/14 [==============================] - 0s 10ms/step - loss: 0.1092 - val_loss: 0.1186\n",
      "Epoch 94/600\n",
      "14/14 [==============================] - 0s 10ms/step - loss: 0.0999 - val_loss: 0.1302\n",
      "Epoch 95/600\n",
      "14/14 [==============================] - 0s 10ms/step - loss: 0.1056 - val_loss: 0.1212\n",
      "Epoch 96/600\n",
      "14/14 [==============================] - 0s 12ms/step - loss: 0.1060 - val_loss: 0.1260\n",
      "Epoch 97/600\n",
      "14/14 [==============================] - 0s 10ms/step - loss: 0.1077 - val_loss: 0.1201\n",
      "Epoch 98/600\n",
      "14/14 [==============================] - 0s 10ms/step - loss: 0.1070 - val_loss: 0.1248\n",
      "Epoch 99/600\n",
      "14/14 [==============================] - 0s 13ms/step - loss: 0.1147 - val_loss: 0.1394\n",
      "Epoch 100/600\n",
      "14/14 [==============================] - 0s 10ms/step - loss: 0.1063 - val_loss: 0.1216\n",
      "Epoch 101/600\n",
      "14/14 [==============================] - 0s 10ms/step - loss: 0.1192 - val_loss: 0.1229\n",
      "Epoch 102/600\n",
      "14/14 [==============================] - 0s 10ms/step - loss: 0.1112 - val_loss: 0.1297\n",
      "Epoch 103/600\n",
      "14/14 [==============================] - 0s 11ms/step - loss: 0.0843 - val_loss: 0.1238\n",
      "Epoch 104/600\n",
      "14/14 [==============================] - 0s 11ms/step - loss: 0.0988 - val_loss: 0.1216\n",
      "Epoch 105/600\n",
      "14/14 [==============================] - 0s 10ms/step - loss: 0.1005 - val_loss: 0.1225\n",
      "Epoch 106/600\n",
      "14/14 [==============================] - 0s 11ms/step - loss: 0.1221 - val_loss: 0.1227\n",
      "Epoch 107/600\n",
      "14/14 [==============================] - 0s 13ms/step - loss: 0.1067 - val_loss: 0.1282\n",
      "Epoch 108/600\n",
      "14/14 [==============================] - 0s 11ms/step - loss: 0.1151 - val_loss: 0.1223\n",
      "Epoch 109/600\n",
      "14/14 [==============================] - 0s 11ms/step - loss: 0.1088 - val_loss: 0.1226\n",
      "Epoch 110/600\n",
      "14/14 [==============================] - 0s 11ms/step - loss: 0.0860 - val_loss: 0.1238\n",
      "Epoch 111/600\n",
      "14/14 [==============================] - 0s 11ms/step - loss: 0.1024 - val_loss: 0.1326\n",
      "Epoch 112/600\n",
      "14/14 [==============================] - 0s 10ms/step - loss: 0.1168 - val_loss: 0.1243\n",
      "Epoch 113/600\n",
      "14/14 [==============================] - 0s 10ms/step - loss: 0.1180 - val_loss: 0.1216\n",
      "Epoch 114/600\n",
      "14/14 [==============================] - 0s 12ms/step - loss: 0.0945 - val_loss: 0.1249\n",
      "Epoch 114: early stopping\n"
     ]
    },
    {
     "data": {
      "text/plain": [
       "<keras.callbacks.History at 0x201959232b0>"
      ]
     },
     "execution_count": 34,
     "metadata": {},
     "output_type": "execute_result"
    }
   ],
   "source": [
    "model.fit(x=X_train,y=y_train,epochs=600,validation_data=(X_test,y_test),verbose=1,callbacks=[early_stop,board])"
   ]
  },
  {
   "cell_type": "markdown",
   "id": "b6566aef",
   "metadata": {},
   "source": [
    "# Running Tensorboard\n",
    "## Running through the Command Line\n",
    "[http://localhost:6006/](http://localhost:6006/)"
   ]
  },
  {
   "cell_type": "code",
   "execution_count": 35,
   "id": "0c0f5743",
   "metadata": {},
   "outputs": [
    {
     "name": "stdout",
     "output_type": "stream",
     "text": [
      "logs\\fit\n"
     ]
    }
   ],
   "source": [
    "print(log_directory)"
   ]
  },
  {
   "cell_type": "code",
   "execution_count": 37,
   "id": "f0823508",
   "metadata": {},
   "outputs": [
    {
     "data": {
      "text/plain": [
       "'C:\\\\Users\\\\user\\\\Refactored_Py_DS_ML_Bootcamp-master\\\\20-Natural-Language-Processing'"
      ]
     },
     "execution_count": 37,
     "metadata": {},
     "output_type": "execute_result"
    }
   ],
   "source": [
    "pwd"
   ]
  },
  {
   "cell_type": "code",
   "execution_count": null,
   "id": "74e52f9c",
   "metadata": {},
   "outputs": [],
   "source": []
  }
 ],
 "metadata": {
  "kernelspec": {
   "display_name": "Python 3 (ipykernel)",
   "language": "python",
   "name": "python3"
  },
  "language_info": {
   "codemirror_mode": {
    "name": "ipython",
    "version": 3
   },
   "file_extension": ".py",
   "mimetype": "text/x-python",
   "name": "python",
   "nbconvert_exporter": "python",
   "pygments_lexer": "ipython3",
   "version": "3.9.7"
  }
 },
 "nbformat": 4,
 "nbformat_minor": 5
}
